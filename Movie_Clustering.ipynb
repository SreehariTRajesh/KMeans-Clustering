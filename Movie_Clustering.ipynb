{
 "cells": [
  {
   "cell_type": "code",
   "execution_count": 10,
   "id": "f3ec0489-428d-486a-a066-f44336a088f1",
   "metadata": {},
   "outputs": [],
   "source": [
    "import pandas as pd\n",
    "from sklearn.preprocessing import MinMaxScaler\n",
    "from sklearn.cluster import KMeans\n",
    "from matplotlib import pyplot as plt"
   ]
  },
  {
   "cell_type": "code",
   "execution_count": 11,
   "id": "7b229e71-9f29-4c19-8690-6ab7ea28981e",
   "metadata": {},
   "outputs": [
    {
     "data": {
      "text/html": [
       "<div>\n",
       "<style scoped>\n",
       "    .dataframe tbody tr th:only-of-type {\n",
       "        vertical-align: middle;\n",
       "    }\n",
       "\n",
       "    .dataframe tbody tr th {\n",
       "        vertical-align: top;\n",
       "    }\n",
       "\n",
       "    .dataframe thead th {\n",
       "        text-align: right;\n",
       "    }\n",
       "</style>\n",
       "<table border=\"1\" class=\"dataframe\">\n",
       "  <thead>\n",
       "    <tr style=\"text-align: right;\">\n",
       "      <th></th>\n",
       "      <th>Movie ID</th>\n",
       "      <th>Action</th>\n",
       "      <th>Adventure</th>\n",
       "      <th>Animation</th>\n",
       "      <th>Children</th>\n",
       "      <th>Comedy</th>\n",
       "      <th>Crime</th>\n",
       "      <th>Documentary</th>\n",
       "      <th>Drama</th>\n",
       "      <th>Fantasy</th>\n",
       "      <th>...</th>\n",
       "      <th>Unknown</th>\n",
       "      <th>War</th>\n",
       "      <th>Western</th>\n",
       "      <th>(no genres listed)</th>\n",
       "      <th>User ID</th>\n",
       "      <th>Age</th>\n",
       "      <th>Gender</th>\n",
       "      <th>Occupation</th>\n",
       "      <th>Zipcode</th>\n",
       "      <th>Rating</th>\n",
       "    </tr>\n",
       "  </thead>\n",
       "  <tbody>\n",
       "    <tr>\n",
       "      <th>0</th>\n",
       "      <td>b'3107'</td>\n",
       "      <td>1</td>\n",
       "      <td>0</td>\n",
       "      <td>0</td>\n",
       "      <td>0</td>\n",
       "      <td>0</td>\n",
       "      <td>0</td>\n",
       "      <td>0</td>\n",
       "      <td>1</td>\n",
       "      <td>0</td>\n",
       "      <td>...</td>\n",
       "      <td>0</td>\n",
       "      <td>0</td>\n",
       "      <td>0</td>\n",
       "      <td>0</td>\n",
       "      <td>b'130'</td>\n",
       "      <td>35</td>\n",
       "      <td>1</td>\n",
       "      <td>18</td>\n",
       "      <td>b'50021'</td>\n",
       "      <td>5</td>\n",
       "    </tr>\n",
       "    <tr>\n",
       "      <th>1</th>\n",
       "      <td>b'2114'</td>\n",
       "      <td>0</td>\n",
       "      <td>0</td>\n",
       "      <td>0</td>\n",
       "      <td>0</td>\n",
       "      <td>0</td>\n",
       "      <td>0</td>\n",
       "      <td>0</td>\n",
       "      <td>1</td>\n",
       "      <td>0</td>\n",
       "      <td>...</td>\n",
       "      <td>0</td>\n",
       "      <td>0</td>\n",
       "      <td>0</td>\n",
       "      <td>0</td>\n",
       "      <td>b'3829'</td>\n",
       "      <td>25</td>\n",
       "      <td>0</td>\n",
       "      <td>0</td>\n",
       "      <td>b'22307'</td>\n",
       "      <td>4</td>\n",
       "    </tr>\n",
       "    <tr>\n",
       "      <th>2</th>\n",
       "      <td>b'256'</td>\n",
       "      <td>0</td>\n",
       "      <td>0</td>\n",
       "      <td>0</td>\n",
       "      <td>0</td>\n",
       "      <td>1</td>\n",
       "      <td>0</td>\n",
       "      <td>0</td>\n",
       "      <td>0</td>\n",
       "      <td>0</td>\n",
       "      <td>...</td>\n",
       "      <td>0</td>\n",
       "      <td>0</td>\n",
       "      <td>0</td>\n",
       "      <td>0</td>\n",
       "      <td>b'1265'</td>\n",
       "      <td>18</td>\n",
       "      <td>0</td>\n",
       "      <td>21</td>\n",
       "      <td>b'49321'</td>\n",
       "      <td>1</td>\n",
       "    </tr>\n",
       "    <tr>\n",
       "      <th>3</th>\n",
       "      <td>b'1389'</td>\n",
       "      <td>1</td>\n",
       "      <td>0</td>\n",
       "      <td>0</td>\n",
       "      <td>0</td>\n",
       "      <td>0</td>\n",
       "      <td>0</td>\n",
       "      <td>0</td>\n",
       "      <td>0</td>\n",
       "      <td>0</td>\n",
       "      <td>...</td>\n",
       "      <td>0</td>\n",
       "      <td>0</td>\n",
       "      <td>0</td>\n",
       "      <td>0</td>\n",
       "      <td>b'2896'</td>\n",
       "      <td>18</td>\n",
       "      <td>1</td>\n",
       "      <td>14</td>\n",
       "      <td>b'60073'</td>\n",
       "      <td>5</td>\n",
       "    </tr>\n",
       "    <tr>\n",
       "      <th>4</th>\n",
       "      <td>b'3635'</td>\n",
       "      <td>1</td>\n",
       "      <td>0</td>\n",
       "      <td>0</td>\n",
       "      <td>0</td>\n",
       "      <td>0</td>\n",
       "      <td>0</td>\n",
       "      <td>0</td>\n",
       "      <td>0</td>\n",
       "      <td>0</td>\n",
       "      <td>...</td>\n",
       "      <td>0</td>\n",
       "      <td>0</td>\n",
       "      <td>0</td>\n",
       "      <td>0</td>\n",
       "      <td>b'5264'</td>\n",
       "      <td>18</td>\n",
       "      <td>1</td>\n",
       "      <td>17</td>\n",
       "      <td>b'15217'</td>\n",
       "      <td>4</td>\n",
       "    </tr>\n",
       "  </tbody>\n",
       "</table>\n",
       "<p>5 rows × 28 columns</p>\n",
       "</div>"
      ],
      "text/plain": [
       "  Movie ID  Action  Adventure  Animation  Children  Comedy  Crime  \\\n",
       "0  b'3107'       1          0          0         0       0      0   \n",
       "1  b'2114'       0          0          0         0       0      0   \n",
       "2   b'256'       0          0          0         0       1      0   \n",
       "3  b'1389'       1          0          0         0       0      0   \n",
       "4  b'3635'       1          0          0         0       0      0   \n",
       "\n",
       "   Documentary  Drama  Fantasy  ...  Unknown  War  Western  \\\n",
       "0            0      1        0  ...        0    0        0   \n",
       "1            0      1        0  ...        0    0        0   \n",
       "2            0      0        0  ...        0    0        0   \n",
       "3            0      0        0  ...        0    0        0   \n",
       "4            0      0        0  ...        0    0        0   \n",
       "\n",
       "   (no genres listed)  User ID  Age  Gender  Occupation   Zipcode  Rating  \n",
       "0                   0   b'130'   35       1          18  b'50021'       5  \n",
       "1                   0  b'3829'   25       0           0  b'22307'       4  \n",
       "2                   0  b'1265'   18       0          21  b'49321'       1  \n",
       "3                   0  b'2896'   18       1          14  b'60073'       5  \n",
       "4                   0  b'5264'   18       1          17  b'15217'       4  \n",
       "\n",
       "[5 rows x 28 columns]"
      ]
     },
     "execution_count": 11,
     "metadata": {},
     "output_type": "execute_result"
    }
   ],
   "source": [
    "df=pd.read_csv('/home/rajesh/Desktop/movielens1m.csv')\n",
    "df.head()"
   ]
  },
  {
   "cell_type": "code",
   "execution_count": 12,
   "id": "7d9864f4-c5d2-4a8e-b1c6-de421e8ee22b",
   "metadata": {},
   "outputs": [
    {
     "data": {
      "text/plain": [
       "Index(['Movie ID', 'Action', 'Adventure', 'Animation', 'Children', 'Comedy',\n",
       "       'Crime', 'Documentary', 'Drama', 'Fantasy', 'Film-Noir', 'Horror',\n",
       "       'IMAX', 'Musical', 'Mystery', 'Romance', 'Sci-Fi', 'Thriller',\n",
       "       'Unknown', 'War', 'Western', '(no genres listed)', 'User ID', 'Age',\n",
       "       'Gender', 'Occupation', 'Zipcode', 'Rating'],\n",
       "      dtype='object')"
      ]
     },
     "execution_count": 12,
     "metadata": {},
     "output_type": "execute_result"
    }
   ],
   "source": [
    "df.columns"
   ]
  },
  {
   "cell_type": "code",
   "execution_count": 13,
   "id": "2e05d7ab-7906-48c0-9011-d6d5058a7aad",
   "metadata": {},
   "outputs": [
    {
     "data": {
      "text/plain": [
       "array([0])"
      ]
     },
     "execution_count": 13,
     "metadata": {},
     "output_type": "execute_result"
    }
   ],
   "source": [
    "df.Unknown.unique()"
   ]
  },
  {
   "cell_type": "code",
   "execution_count": 28,
   "id": "a5f212a3-7263-4ad5-b3be-1a71a74f1507",
   "metadata": {},
   "outputs": [
    {
     "data": {
      "text/html": [
       "<div>\n",
       "<style scoped>\n",
       "    .dataframe tbody tr th:only-of-type {\n",
       "        vertical-align: middle;\n",
       "    }\n",
       "\n",
       "    .dataframe tbody tr th {\n",
       "        vertical-align: top;\n",
       "    }\n",
       "\n",
       "    .dataframe thead th {\n",
       "        text-align: right;\n",
       "    }\n",
       "</style>\n",
       "<table border=\"1\" class=\"dataframe\">\n",
       "  <thead>\n",
       "    <tr style=\"text-align: right;\">\n",
       "      <th></th>\n",
       "      <th>Age</th>\n",
       "      <th>Gender</th>\n",
       "      <th>Occupation</th>\n",
       "    </tr>\n",
       "  </thead>\n",
       "  <tbody>\n",
       "    <tr>\n",
       "      <th>0</th>\n",
       "      <td>35</td>\n",
       "      <td>1</td>\n",
       "      <td>18</td>\n",
       "    </tr>\n",
       "    <tr>\n",
       "      <th>1</th>\n",
       "      <td>25</td>\n",
       "      <td>0</td>\n",
       "      <td>0</td>\n",
       "    </tr>\n",
       "    <tr>\n",
       "      <th>2</th>\n",
       "      <td>18</td>\n",
       "      <td>0</td>\n",
       "      <td>21</td>\n",
       "    </tr>\n",
       "    <tr>\n",
       "      <th>3</th>\n",
       "      <td>18</td>\n",
       "      <td>1</td>\n",
       "      <td>14</td>\n",
       "    </tr>\n",
       "    <tr>\n",
       "      <th>4</th>\n",
       "      <td>18</td>\n",
       "      <td>1</td>\n",
       "      <td>17</td>\n",
       "    </tr>\n",
       "    <tr>\n",
       "      <th>...</th>\n",
       "      <td>...</td>\n",
       "      <td>...</td>\n",
       "      <td>...</td>\n",
       "    </tr>\n",
       "    <tr>\n",
       "      <th>1000204</th>\n",
       "      <td>25</td>\n",
       "      <td>1</td>\n",
       "      <td>21</td>\n",
       "    </tr>\n",
       "    <tr>\n",
       "      <th>1000205</th>\n",
       "      <td>25</td>\n",
       "      <td>1</td>\n",
       "      <td>21</td>\n",
       "    </tr>\n",
       "    <tr>\n",
       "      <th>1000206</th>\n",
       "      <td>25</td>\n",
       "      <td>1</td>\n",
       "      <td>3</td>\n",
       "    </tr>\n",
       "    <tr>\n",
       "      <th>1000207</th>\n",
       "      <td>25</td>\n",
       "      <td>0</td>\n",
       "      <td>14</td>\n",
       "    </tr>\n",
       "    <tr>\n",
       "      <th>1000208</th>\n",
       "      <td>35</td>\n",
       "      <td>1</td>\n",
       "      <td>12</td>\n",
       "    </tr>\n",
       "  </tbody>\n",
       "</table>\n",
       "<p>1000209 rows × 3 columns</p>\n",
       "</div>"
      ],
      "text/plain": [
       "         Age  Gender  Occupation\n",
       "0         35       1          18\n",
       "1         25       0           0\n",
       "2         18       0          21\n",
       "3         18       1          14\n",
       "4         18       1          17\n",
       "...      ...     ...         ...\n",
       "1000204   25       1          21\n",
       "1000205   25       1          21\n",
       "1000206   25       1           3\n",
       "1000207   25       0          14\n",
       "1000208   35       1          12\n",
       "\n",
       "[1000209 rows x 3 columns]"
      ]
     },
     "execution_count": 28,
     "metadata": {},
     "output_type": "execute_result"
    }
   ],
   "source": [
    "\n",
    "person=pd.DataFrame(df[['Age','Gender','Occupation']])\n",
    "person"
   ]
  },
  {
   "cell_type": "code",
   "execution_count": 29,
   "id": "6957cbb4-188e-41c4-965d-f1baf36c7531",
   "metadata": {},
   "outputs": [],
   "source": [
    "scaler=MinMaxScaler()\n",
    "scaler.fit(person[['Age']])\n",
    "person['Age']=scaler.transform(person[['Age']])\n",
    "scaler.fit(person[['Gender']])\n",
    "person['Gender']=scaler.transform(person[['Gender']])\n",
    "scaler.fit(person[['Occupation']])\n",
    "person['Occupation']=scaler.transform(person[['Occupation']])"
   ]
  },
  {
   "cell_type": "code",
   "execution_count": 30,
   "id": "d1317396-2e00-4b22-b1ba-b9c20d9185fa",
   "metadata": {},
   "outputs": [
    {
     "data": {
      "text/html": [
       "<div>\n",
       "<style scoped>\n",
       "    .dataframe tbody tr th:only-of-type {\n",
       "        vertical-align: middle;\n",
       "    }\n",
       "\n",
       "    .dataframe tbody tr th {\n",
       "        vertical-align: top;\n",
       "    }\n",
       "\n",
       "    .dataframe thead th {\n",
       "        text-align: right;\n",
       "    }\n",
       "</style>\n",
       "<table border=\"1\" class=\"dataframe\">\n",
       "  <thead>\n",
       "    <tr style=\"text-align: right;\">\n",
       "      <th></th>\n",
       "      <th>Age</th>\n",
       "      <th>Gender</th>\n",
       "      <th>Occupation</th>\n",
       "    </tr>\n",
       "  </thead>\n",
       "  <tbody>\n",
       "    <tr>\n",
       "      <th>0</th>\n",
       "      <td>0.618182</td>\n",
       "      <td>1.0</td>\n",
       "      <td>0.857143</td>\n",
       "    </tr>\n",
       "    <tr>\n",
       "      <th>1</th>\n",
       "      <td>0.436364</td>\n",
       "      <td>0.0</td>\n",
       "      <td>0.000000</td>\n",
       "    </tr>\n",
       "    <tr>\n",
       "      <th>2</th>\n",
       "      <td>0.309091</td>\n",
       "      <td>0.0</td>\n",
       "      <td>1.000000</td>\n",
       "    </tr>\n",
       "    <tr>\n",
       "      <th>3</th>\n",
       "      <td>0.309091</td>\n",
       "      <td>1.0</td>\n",
       "      <td>0.666667</td>\n",
       "    </tr>\n",
       "    <tr>\n",
       "      <th>4</th>\n",
       "      <td>0.309091</td>\n",
       "      <td>1.0</td>\n",
       "      <td>0.809524</td>\n",
       "    </tr>\n",
       "  </tbody>\n",
       "</table>\n",
       "</div>"
      ],
      "text/plain": [
       "        Age  Gender  Occupation\n",
       "0  0.618182     1.0    0.857143\n",
       "1  0.436364     0.0    0.000000\n",
       "2  0.309091     0.0    1.000000\n",
       "3  0.309091     1.0    0.666667\n",
       "4  0.309091     1.0    0.809524"
      ]
     },
     "execution_count": 30,
     "metadata": {},
     "output_type": "execute_result"
    }
   ],
   "source": [
    "person.head()"
   ]
  },
  {
   "cell_type": "code",
   "execution_count": 38,
   "id": "afcf92d5-71a7-4214-9244-688d8816f9d9",
   "metadata": {},
   "outputs": [
    {
     "data": {
      "text/plain": [
       "1000209"
      ]
     },
     "execution_count": 38,
     "metadata": {},
     "output_type": "execute_result"
    }
   ],
   "source": [
    "km=KMeans()\n",
    "y=km.fit_predict(df[['Age','Gender','Occupation']])\n",
    "y\n",
    "len(y)"
   ]
  },
  {
   "cell_type": "code",
   "execution_count": 41,
   "id": "b33c4cd7-5f67-4dba-bbd7-809003d76897",
   "metadata": {},
   "outputs": [
    {
     "data": {
      "text/plain": [
       "169956"
      ]
     },
     "execution_count": 41,
     "metadata": {},
     "output_type": "execute_result"
    }
   ],
   "source": [
    "person['cluster']=y\n",
    "person0=person[person['cluster']==0]\n",
    "person1=person[person['cluster']==1]\n",
    "person2=person[person['cluster']==2]\n",
    "person3=person[person['cluster']==3]\n",
    "person4=person[person['cluster']==4]\n",
    "person5=person[person['cluster']==5]\n",
    "person6=person[person['cluster']==6]\n",
    "person7=person[person['cluster']==7]"
   ]
  },
  {
   "cell_type": "code",
   "execution_count": 44,
   "id": "306e18cb-a305-4142-a632-7ef07c1e8141",
   "metadata": {},
   "outputs": [
    {
     "data": {
      "image/png": "[encoded data removed]",
      "text/plain": [
       "<Figure size 432x288 with 1 Axes>"
      ]
     },
     "metadata": {
      "needs_background": "light"
     },
     "output_type": "display_data"
    }
   ],
   "source": [
    "plt.scatter(person0['Age'],person0['Occupation'],marker='.',color='red')\n",
    "plt.scatter(person1['Age'],person1['Occupation'],marker='.',color='green')\n",
    "plt.scatter(person2['Age'],person2['Occupation'],marker='.',color='blue')\n",
    "plt.scatter(person3['Age'],person3['Occupation'],marker='.',color='orange')\n",
    "plt.scatter(person4['Age'],person4['Occupation'],marker='.',color='purple')\n",
    "plt.scatter(person5['Age'],person5['Occupation'],marker='.',color='violet')\n",
    "plt.scatter(person6['Age'],person6['Occupation'],marker='.',color='gray')\n",
    "plt.scatter(person7['Age'],person7['Occupation'],marker='.',color='darkslategray')\n",
    "plt.show()"
   ]
  },
  {
   "cell_type": "code",
   "execution_count": null,
   "id": "9f9426ce-fb2d-4196-8057-dbea9d370374",
   "metadata": {},
   "outputs": [],
   "source": []
  }
 ],
 "metadata": {
  "kernelspec": {
   "display_name": "Python 3 (ipykernel)",
   "language": "python",
   "name": "python3"
  },
  "language_info": {
   "codemirror_mode": {
    "name": "ipython",
    "version": 3
   },
   "file_extension": ".py",
   "mimetype": "text/x-python",
   "name": "python",
   "nbconvert_exporter": "python",
   "pygments_lexer": "ipython3",
   "version": "3.8.10"
  }
 },
 "nbformat": 4,
 "nbformat_minor": 5
}
